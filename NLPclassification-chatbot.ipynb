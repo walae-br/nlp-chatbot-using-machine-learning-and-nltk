{
 "cells": [
  {
   "cell_type": "markdown",
   "metadata": {},
   "source": [
    "# Natural language processing Chatbot application using NLTK for text classification\n",
    "\n",
    "\n",
    "In this NLP AI application, I built the core conversational engine for a chatbot. I used the popular NLTK text classification library to achieve this."
   ]
  },
  {
   "cell_type": "code",
   "execution_count": 3,
   "metadata": {},
   "outputs": [],
   "source": [
    "# import the necessary packages\n",
    "import re\n",
    "import os\n",
    "import csv\n",
    "import nltk\n",
    "from nltk.stem.snowball import SnowballStemmer\n",
    "import random\n",
    "from nltk.classify import SklearnClassifier\n",
    "from nltk.tokenize import RegexpTokenizer\n",
    "from nltk.corpus import stopwords\n",
    "from nltk.stem.wordnet import WordNetLemmatizer\n",
    "import numpy as np\n",
    "import pandas as pd"
   ]
  },
  {
   "cell_type": "code",
   "execution_count": 4,
   "metadata": {},
   "outputs": [],
   "source": [
    "## Get multiple outputs in the same cell\n",
    "from IPython.core.interactiveshell import InteractiveShell\n",
    "InteractiveShell.ast_node_interactivity = \"all\"\n",
    "\n",
    "## Ignore all warnings\n",
    "import warnings\n",
    "warnings.filterwarnings('ignore')\n",
    "warnings.filterwarnings(action='ignore', category=DeprecationWarning)"
   ]
  },
  {
   "cell_type": "code",
   "execution_count": 5,
   "metadata": {},
   "outputs": [],
   "source": [
    "## Display all rows and columns of a dataframe instead of a truncated version\n",
    "from IPython.display import display\n",
    "pd.set_option('display.max_columns', None)\n",
    "pd.set_option('display.max_rows', None)"
   ]
  },
  {
   "cell_type": "markdown",
   "metadata": {},
   "source": [
    "## Preprocess"
   ]
  },
  {
   "cell_type": "code",
   "execution_count": 14,
   "metadata": {},
   "outputs": [],
   "source": [
    "tokenizer = RegexpTokenizer(r'\\w+')\n",
    "lmtzr = WordNetLemmatizer()\n",
    "stemmer = SnowballStemmer(\"english\")"
   ]
  },
  {
   "cell_type": "code",
   "execution_count": 11,
   "metadata": {},
   "outputs": [],
   "source": [
    "def preprocess(sentence):\n",
    "    sentence = sentence.lower()\n",
    "    tokenizer = RegexpTokenizer(r'\\w+')\n",
    "    tokens = tokenizer.tokenize(sentence)\n",
    "    filtered_words = [w for w in tokens if not w in stopwords.words('english')]\n",
    "    return filtered_words"
   ]
  },
  {
   "cell_type": "raw",
   "metadata": {},
   "source": [
    "POS tag list:\n",
    "\n",
    "CC coordinating conjunction\n",
    "CD cardinal digit\n",
    "DT determiner\n",
    "EX existential there (like: \"there is\" ... think of it like \"there exists\")\n",
    "FW foreign word\n",
    "IN preposition/subordinating conjunction\n",
    "JJ adjective 'big'\n",
    "JJR adjective, comparative 'bigger'\n",
    "JJS adjective, superlative 'biggest'\n",
    "LS list marker 1)\n",
    "MD modal could, will\n",
    "NN noun, singular 'desk'\n",
    "NNS noun plural 'desks'\n",
    "NNP proper noun, singular 'Harrison'\n",
    "NNPS proper noun, plural 'Americans'\n",
    "PDT predeterminer 'all the kids'\n",
    "POS possessive ending parent's\n",
    "PRP personal pronoun I, he, she\n",
    "PRP$ possessive pronoun my, his, hers\n",
    "RB adverb very, silently,\n",
    "RBR adverb, comparative better\n",
    "RBS adverb, superlative best\n",
    "RP particle give up\n",
    "TO to go 'to' the store.\n",
    "UH interjection errrrrrrrm\n",
    "VB verb, base form take\n",
    "VBD verb, past tense took\n",
    "VBG verb, gerund/present participle taking\n",
    "VBN verb, past participle taken\n",
    "VBP verb, sing. present, non-3d take\n",
    "VBZ verb, 3rd person sing. present takes\n",
    "WDT wh-determiner which\n",
    "WP wh-pronoun who, what\n",
    "WP$ possessive wh-pronoun whose\n",
    "WRB wh-abverb where, when"
   ]
  },
  {
   "cell_type": "code",
   "execution_count": 12,
   "metadata": {},
   "outputs": [],
   "source": [
    "def extract_tagged(sentences):\n",
    "    features = []\n",
    "    for tagged_word in sentences:\n",
    "        word, tag = tagged_word\n",
    "        if tag=='NN' or tag == 'VBN' or tag == 'NNS' or tag == 'VBP' or tag == 'RB' or tag == 'VBZ' or tag == 'VBG' or tag =='PRP' or tag == 'JJ':\n",
    "            features.append(word)\n",
    "    return features"
   ]
  },
  {
   "cell_type": "markdown",
   "metadata": {},
   "source": [
    "## Putting it all together"
   ]
  },
  {
   "cell_type": "code",
   "execution_count": 15,
   "metadata": {},
   "outputs": [],
   "source": [
    "def extract_feature(text):\n",
    "    words = preprocess(text)\n",
    "#     print('words: ',words)\n",
    "    tags = nltk.pos_tag(words)\n",
    "#     print('tags: ',tags)\n",
    "    extracted_features = extract_tagged(tags)\n",
    "#     print('Extracted features: ',extracted_features)\n",
    "    stemmed_words = [stemmer.stem(x) for x in extracted_features]\n",
    "#     print(stemmed_words)\n",
    "\n",
    "    result = [lmtzr.lemmatize(x) for x in stemmed_words]\n",
    "   \n",
    "    return result"
   ]
  },
  {
   "cell_type": "markdown",
   "metadata": {},
   "source": [
    "## Implementing bag of words"
   ]
  },
  {
   "cell_type": "markdown",
   "metadata": {},
   "source": [
    "In simple terms, it’s a collection of words to represent a sentence, disregarding the order in which they appear."
   ]
  },
  {
   "cell_type": "code",
   "execution_count": 16,
   "metadata": {},
   "outputs": [],
   "source": [
    "def word_feats(words):\n",
    "    return dict([(word, True) for word in words])"
   ]
  },
  {
   "cell_type": "markdown",
   "metadata": {},
   "source": [
    "## Parsing the whole document"
   ]
  },
  {
   "cell_type": "code",
   "execution_count": 17,
   "metadata": {},
   "outputs": [],
   "source": [
    "def extract_feature_from_doc(data):\n",
    "    result = []\n",
    "    corpus = []\n",
    "    # The responses of the chat bot\n",
    "    answers = {}\n",
    "    for (text,category,answer) in data:\n",
    "\n",
    "        features = extract_feature(text)\n",
    "\n",
    "        corpus.append(features)\n",
    "        result.append((word_feats(features), category))\n",
    "        answers[category] = answer\n",
    "\n",
    "    return (result, sum(corpus,[]), answers)"
   ]
  },
  {
   "cell_type": "code",
   "execution_count": 18,
   "metadata": {},
   "outputs": [],
   "source": [
    "def get_content(filename):\n",
    "    doc = os.path.join(filename)\n",
    "    with open(doc, 'r') as content_file:\n",
    "        lines = csv.reader(content_file,delimiter='|')\n",
    "        data = [x for x in lines if len(x) == 3]\n",
    "        return data"
   ]
  },
  {
   "cell_type": "code",
   "execution_count": 19,
   "metadata": {},
   "outputs": [],
   "source": [
    "filename = 'leaves.txt'\n",
    "data = get_content(filename)"
   ]
  },
  {
   "cell_type": "code",
   "execution_count": 20,
   "metadata": {},
   "outputs": [
    {
     "output_type": "execute_result",
     "data": {
      "text/plain": [
       "[['Hello',\n",
       "  'Greetings',\n",
       "  'Hello. I am Dexter. I will serve your leave enquiries.'],\n",
       " ['hi hello',\n",
       "  'Greetings',\n",
       "  'Hello. I am Dexter. I will serve your leave enquiries.'],\n",
       " ['hi ',\n",
       "  'Greetings',\n",
       "  'Hello. I am Dexter. I will serve your leave enquiries.'],\n",
       " ['hi', 'Greetings', 'Hello. I am Dexter. I will serve your leave enquiries.'],\n",
       " ['hi', 'Greetings', 'Hello. I am Dexter. I will serve your leave enquiries.']]"
      ]
     },
     "metadata": {},
     "execution_count": 20
    }
   ],
   "source": [
    "data[:5]"
   ]
  },
  {
   "cell_type": "code",
   "execution_count": 21,
   "metadata": {},
   "outputs": [],
   "source": [
    "features_data, corpus, answers = extract_feature_from_doc(data)"
   ]
  },
  {
   "cell_type": "code",
   "execution_count": 22,
   "metadata": {},
   "outputs": [
    {
     "output_type": "stream",
     "name": "stdout",
     "text": [
      "({'mani': True, 'option': True, 'leav': True}, 'Utilized-Optional-Leaves')\n"
     ]
    }
   ],
   "source": [
    "print(features_data[50])"
   ]
  },
  {
   "cell_type": "code",
   "execution_count": 25,
   "metadata": {},
   "outputs": [
    {
     "output_type": "execute_result",
     "data": {
      "text/plain": [
       "['hello', 'hi', 'hello', 'hi', 'hi']"
      ]
     },
     "metadata": {},
     "execution_count": 25
    }
   ],
   "source": [
    "corpus[:5]"
   ]
  },
  {
   "cell_type": "code",
   "execution_count": 26,
   "metadata": {},
   "outputs": [
    {
     "output_type": "execute_result",
     "data": {
      "text/plain": [
       "{'Greetings': 'Hello. I am Dexter. I will serve your leave enquiries.',\n",
       " 'Morning': 'Good Morning. I am Dexter. I will serve your leave enquiries.',\n",
       " 'Afternoon': 'Good afternoon. I am Dexter. I will serve your leave enquiries.',\n",
       " 'Evening': 'Good evening. I am Dexter. I will serve your leave enquiries.',\n",
       " 'Goodbye': 'Good night. Take care.',\n",
       " 'Opening': \"I'm fine! Thank you. How can I help you?\",\n",
       " 'Help': 'How can I help you?',\n",
       " 'No-Help': 'Ok sir/madam. No problem. Have a nice day.',\n",
       " 'Closing': \"It's glad to know that I have been helpful. Have a good day!\",\n",
       " 'Leaves-Type': 'Currently I know about two: annual and optional leaves.',\n",
       " 'Default-Utilized-Annual-Leaves': 'You have used 12 annual leaves.',\n",
       " 'Utilized-Annual-Leaves': 'You have taken 12 annual leaves.',\n",
       " 'Utilized-Optional-Leaves': 'You have taken 1 optional leaves.',\n",
       " 'Default-Balance-Annual-Leaves': 'You have 25 annual leaves left.',\n",
       " 'Balance-Annual-Leaves': 'You have 25 annual leaves remaining.',\n",
       " 'Balance-Optional-Leaves': 'You have 2 optional leaves remaining.',\n",
       " 'CF': 'You have 30 carry forward leaves.'}"
      ]
     },
     "metadata": {},
     "execution_count": 26
    }
   ],
   "source": [
    "answers"
   ]
  },
  {
   "cell_type": "markdown",
   "metadata": {},
   "source": [
    "# Train a model using these fetures"
   ]
  },
  {
   "cell_type": "code",
   "execution_count": 27,
   "metadata": {},
   "outputs": [],
   "source": [
    "## split data into train and test sets\n",
    "split_ratio = 0.8"
   ]
  },
  {
   "cell_type": "code",
   "execution_count": 28,
   "metadata": {},
   "outputs": [],
   "source": [
    "def split_dataset(data, split_ratio):\n",
    "    random.shuffle(data)\n",
    "    data_length = len(data)\n",
    "    train_split = int(data_length * split_ratio)\n",
    "    return (data[:train_split]), (data[train_split:])"
   ]
  },
  {
   "cell_type": "code",
   "execution_count": 29,
   "metadata": {},
   "outputs": [],
   "source": [
    "training_data, test_data = split_dataset(features_data, split_ratio)"
   ]
  },
  {
   "cell_type": "code",
   "execution_count": 30,
   "metadata": {},
   "outputs": [
    {
     "output_type": "execute_result",
     "data": {
      "text/plain": [
       "[({'mani': True, 'leav': True, 'remain': True},\n",
       "  'Default-Balance-Annual-Leaves'),\n",
       " ({'mani': True, 'option': True, 'leav': True}, 'Balance-Optional-Leaves'),\n",
       " ({'option': True, 'leav': True, 'count': True, 'taken': True},\n",
       "  'Utilized-Optional-Leaves'),\n",
       " ({'great': True}, 'Closing'),\n",
       " ({'number': True, 'option': True, 'leav': True, 'taken': True},\n",
       "  'Utilized-Optional-Leaves'),\n",
       " ({'mani': True, 'option': True, 'leav': True}, 'Balance-Optional-Leaves'),\n",
       " ({'annual': True, 'leav': True}, 'Balance-Annual-Leaves'),\n",
       " ({'annual': True, 'leav': True, 'count': True, 'taken': True},\n",
       "  'Utilized-Annual-Leaves'),\n",
       " ({'mani': True, 'carri': True, 'forward': True, 'leav': True}, 'CF'),\n",
       " ({'number': True, 'option': True, 'leav': True, 'remain': True},\n",
       "  'Balance-Optional-Leaves'),\n",
       " ({'option': True, 'leav': True, 'balanc': True}, 'Balance-Optional-Leaves'),\n",
       " ({'mani': True, 'leav': True, 'taken': True},\n",
       "  'Default-Utilized-Annual-Leaves'),\n",
       " ({'good': True, 'night': True}, 'Goodbye'),\n",
       " ({'hey': True}, 'Greetings'),\n",
       " ({'mani': True, 'leav': True, 'take': True}, 'Default-Balance-Annual-Leaves'),\n",
       " ({'forward': True, 'leav': True}, 'CF'),\n",
       " ({'thank': True}, 'Closing'),\n",
       " ({'number': True, 'carri': True, 'forward': True, 'leav': True}, 'CF'),\n",
       " ({'hello': True, 'hi': True}, 'Greetings'),\n",
       " ({'option': True, 'leav': True, 'balanc': True}, 'Balance-Optional-Leaves'),\n",
       " ({'option': True, 'leav': True, 'remain': True}, 'Balance-Optional-Leaves'),\n",
       " ({'option': True, 'leav': True, 'count': True, 'use': True},\n",
       "  'Utilized-Optional-Leaves'),\n",
       " ({'annual': True, 'leav': True, 'count': True, 'remain': True},\n",
       "  'Balance-Annual-Leaves'),\n",
       " ({'annual': True, 'leav': True, 'taken': True}, 'Utilized-Annual-Leaves'),\n",
       " ({'today': True}, 'Opening'),\n",
       " ({'leav': True, 'pend': True}, 'Default-Balance-Annual-Leaves'),\n",
       " ({'good': True, 'afternoon': True}, 'Afternoon'),\n",
       " ({'number': True, 'annual': True, 'leav': True, 'remain': True},\n",
       "  'Balance-Annual-Leaves'),\n",
       " ({'mani': True, 'type': True, 'leav': True}, 'Leaves-Type'),\n",
       " ({'annual': True, 'leav': True, 'remain': True}, 'Balance-Annual-Leaves'),\n",
       " ({'number': True,\n",
       "   'annual': True,\n",
       "   'leav': True,\n",
       "   'alreadi': True,\n",
       "   'taken': True},\n",
       "  'Utilized-Annual-Leaves'),\n",
       " ({'annual': True, 'leav': True, 'balanc': True}, 'Balance-Annual-Leaves'),\n",
       " ({'option': True, 'leav': True, 'taken': True}, 'Utilized-Optional-Leaves'),\n",
       " ({'thank': True, 'help': True}, 'Closing'),\n",
       " ({'option': True, 'leav': True, 'count': True, 'remain': True},\n",
       "  'Balance-Optional-Leaves'),\n",
       " ({'option': True, 'leav': True, 'count': True, 'use': True},\n",
       "  'Utilized-Optional-Leaves'),\n",
       " ({'option': True, 'leav': True, 'take': True}, 'Balance-Optional-Leaves'),\n",
       " ({'type': True, 'leav': True}, 'Leaves-Type'),\n",
       " ({'taken': True, 'annual': True, 'leav': True}, 'Utilized-Annual-Leaves'),\n",
       " ({'hey': True}, 'Greetings'),\n",
       " ({'hi': True}, 'Greetings'),\n",
       " ({'number': True, 'option': True, 'leav': True}, 'Balance-Optional-Leaves'),\n",
       " ({'annual': True, 'leav': True}, 'Utilized-Annual-Leaves'),\n",
       " ({'remain': True, 'annual': True, 'leav': True}, 'Balance-Annual-Leaves'),\n",
       " ({'mani': True, 'leav': True}, 'Default-Balance-Annual-Leaves'),\n",
       " ({'number': True, 'forward': True, 'leav': True}, 'CF'),\n",
       " ({'option': True, 'leav': True, 'count': True, 'taken': True},\n",
       "  'Utilized-Optional-Leaves'),\n",
       " ({'option': True, 'leav': True, 'count': True, 'remain': True},\n",
       "  'Balance-Optional-Leaves'),\n",
       " ({'annual': True, 'leav': True, 'alreadi': True, 'taken': True},\n",
       "  'Utilized-Annual-Leaves'),\n",
       " ({'mani': True, 'annual': True, 'leav': True, 'alreadi': True, 'taken': True},\n",
       "  'Utilized-Annual-Leaves'),\n",
       " ({'option': True, 'leav': True}, 'Balance-Optional-Leaves'),\n",
       " ({'number': True, 'annual': True, 'leav': True, 'remain': True},\n",
       "  'Balance-Annual-Leaves'),\n",
       " ({'annual': True, 'leav': True, 'balanc': True}, 'Balance-Annual-Leaves'),\n",
       " ({'thank': True}, 'Closing'),\n",
       " ({'leav': True}, 'Default-Balance-Annual-Leaves'),\n",
       " ({'mani': True, 'annual': True, 'leav': True}, 'Balance-Annual-Leaves'),\n",
       " ({'option': True, 'leav': True}, 'Balance-Optional-Leaves'),\n",
       " ({'mani': True, 'option': True, 'leav': True}, 'Utilized-Optional-Leaves'),\n",
       " ({'hi': True}, 'Greetings'),\n",
       " ({'option': True, 'leav': True, 'count': True, 'use': True},\n",
       "  'Utilized-Optional-Leaves'),\n",
       " ({'number': True, 'option': True, 'leav': True}, 'Utilized-Optional-Leaves'),\n",
       " ({'mani': True, 'option': True, 'leav': True, 'taken': True},\n",
       "  'Utilized-Optional-Leaves'),\n",
       " ({'carri': True, 'forward': True}, 'CF'),\n",
       " ({'leav': True, 'type': True}, 'Leaves-Type'),\n",
       " ({'hey': True, 'hi': True}, 'Greetings'),\n",
       " ({'good': True, 'morn': True}, 'Morning'),\n",
       " ({'mani': True, 'leav': True, 'alreadi': True, 'taken': True},\n",
       "  'Default-Utilized-Annual-Leaves'),\n",
       " ({'remain': True, 'leav': True}, 'Default-Balance-Annual-Leaves'),\n",
       " ({'annual': True, 'leav': True}, 'Balance-Annual-Leaves'),\n",
       " ({'annual': True, 'leav': True, 'balanc': True}, 'Balance-Annual-Leaves'),\n",
       " ({'previous': True,\n",
       "   'year': True,\n",
       "   'carri': True,\n",
       "   'forward': True,\n",
       "   'leav': True},\n",
       "  'CF'),\n",
       " ({'number': True,\n",
       "   'option': True,\n",
       "   'leav': True,\n",
       "   'alreadi': True,\n",
       "   'taken': True},\n",
       "  'Utilized-Optional-Leaves'),\n",
       " ({'remain': True, 'leav': True}, 'Default-Balance-Annual-Leaves'),\n",
       " ({'option': True, 'leav': True}, 'Balance-Optional-Leaves'),\n",
       " ({'number': True, 'option': True, 'leav': True, 'taken': True},\n",
       "  'Utilized-Optional-Leaves'),\n",
       " ({'option': True}, 'Balance-Optional-Leaves'),\n",
       " ({'good': True, 'even': True}, 'Evening'),\n",
       " ({'want': True, 'help': True}, 'Help'),\n",
       " ({'tell': True, 'carri': True, 'forward': True, 'leav': True}, 'CF'),\n",
       " ({'number': True, 'option': True, 'leav': True, 'taken': True},\n",
       "  'Utilized-Optional-Leaves'),\n",
       " ({'mani': True, 'annual': True, 'leav': True, 'taken': True},\n",
       "  'Utilized-Annual-Leaves'),\n",
       " ({'annual': True, 'leav': True, 'taken': True}, 'Utilized-Annual-Leaves'),\n",
       " ({'mani': True, 'option': True, 'leav': True, 'taken': True},\n",
       "  'Utilized-Optional-Leaves'),\n",
       " ({'mani': True, 'option': True, 'leav': True}, 'Utilized-Optional-Leaves'),\n",
       " ({'number': True, 'forward': True, 'leav': True}, 'CF'),\n",
       " ({'option': True, 'leav': True, 'alreadi': True, 'taken': True},\n",
       "  'Utilized-Optional-Leaves'),\n",
       " ({'hello': True}, 'Greetings'),\n",
       " ({'number': True, 'annual': True, 'leav': True, 'taken': True},\n",
       "  'Utilized-Annual-Leaves'),\n",
       " ({'need': True, 'help': True}, 'Help'),\n",
       " ({'option': True, 'leav': True, 'balanc': True}, 'Balance-Optional-Leaves'),\n",
       " ({'annual': True, 'leav': True, 'remain': True}, 'Balance-Annual-Leaves'),\n",
       " ({'option': True, 'leav': True, 'count': True, 'remain': True},\n",
       "  'Balance-Optional-Leaves'),\n",
       " ({'number': True, 'annual': True, 'leav': True, 'remain': True},\n",
       "  'Balance-Annual-Leaves'),\n",
       " ({'annual': True, 'leav': True, 'remain': True}, 'Balance-Annual-Leaves'),\n",
       " ({'tell': True, 'carri': True, 'forward': True, 'leav': True}, 'CF'),\n",
       " ({'number': True, 'annual': True, 'leav': True}, 'Utilized-Annual-Leaves'),\n",
       " ({'mani': True,\n",
       "   'carri': True,\n",
       "   'forward': True,\n",
       "   'previous': True,\n",
       "   'year': True},\n",
       "  'CF'),\n",
       " ({'number': True, 'option': True, 'leav': True}, 'Utilized-Optional-Leaves'),\n",
       " ({'mani': True, 'option': True, 'leav': True}, 'Utilized-Optional-Leaves'),\n",
       " ({'number': True, 'forward': True, 'leav': True}, 'CF'),\n",
       " ({'help': True}, 'No-Help'),\n",
       " ({'number': True, 'annual': True, 'leav': True, 'taken': True},\n",
       "  'Utilized-Annual-Leaves'),\n",
       " ({'number': True, 'option': True, 'leav': True, 'taken': True},\n",
       "  'Utilized-Optional-Leaves'),\n",
       " ({'option': True, 'leav': True, 'count': True, 'use': True},\n",
       "  'Utilized-Optional-Leaves'),\n",
       " ({'great': True, 'talk': True}, 'Closing'),\n",
       " ({'thank': True, 'much': True}, 'Closing'),\n",
       " ({'tell': True, 'carri': True, 'forward': True, 'leav': True, 'count': True},\n",
       "  'CF'),\n",
       " ({'option': True, 'leav': True, 'count': True, 'taken': True},\n",
       "  'Utilized-Optional-Leaves'),\n",
       " ({'annual': True, 'leav': True, 'count': True, 'remain': True},\n",
       "  'Balance-Annual-Leaves'),\n",
       " ({'option': True, 'leav': True, 'count': True, 'taken': True},\n",
       "  'Utilized-Optional-Leaves'),\n",
       " ({'carri': True, 'forward': True, 'leav': True}, 'CF'),\n",
       " ({'type': True}, 'Leaves-Type'),\n",
       " ({'annual': True, 'leav': True, 'count': True, 'remain': True},\n",
       "  'Balance-Annual-Leaves'),\n",
       " ({'number': True, 'option': True, 'leav': True}, 'Balance-Optional-Leaves')]"
      ]
     },
     "metadata": {},
     "execution_count": 30
    }
   ],
   "source": [
    "training_data"
   ]
  },
  {
   "cell_type": "code",
   "execution_count": 31,
   "metadata": {},
   "outputs": [],
   "source": [
    "# save the data\n",
    "np.save('training_data', training_data)\n",
    "np.save('test_data', test_data)"
   ]
  },
  {
   "cell_type": "markdown",
   "metadata": {},
   "source": [
    "## Classification using Decision tree"
   ]
  },
  {
   "cell_type": "code",
   "execution_count": 33,
   "metadata": {},
   "outputs": [],
   "source": [
    "np_load_old = np.load\n",
    "\n",
    "# modify the default parameters of np.load\n",
    "np.load = lambda *a,**k: np_load_old(*a, allow_pickle=True, **k)\n",
    "\n",
    "training_data = np.load('training_data.npy')\n",
    "test_data = np.load('test_data.npy')"
   ]
  },
  {
   "cell_type": "code",
   "execution_count": 34,
   "metadata": {},
   "outputs": [],
   "source": [
    "def train_using_decision_tree(training_data, test_data):\n",
    "    \n",
    "    classifier = nltk.classify.DecisionTreeClassifier.train(training_data, entropy_cutoff=0.6, support_cutoff=6)\n",
    "    classifier_name = type(classifier).__name__\n",
    "    training_set_accuracy = nltk.classify.accuracy(classifier, training_data)\n",
    "    print('training set accuracy: ', training_set_accuracy)\n",
    "    test_set_accuracy = nltk.classify.accuracy(classifier, test_data)\n",
    "    print('test set accuracy: ', test_set_accuracy)\n",
    "    return classifier, classifier_name, test_set_accuracy, training_set_accuracy"
   ]
  },
  {
   "cell_type": "code",
   "execution_count": 35,
   "metadata": {},
   "outputs": [
    {
     "output_type": "stream",
     "name": "stdout",
     "text": [
      "training set accuracy:  0.9298245614035088\ntest set accuracy:  0.7241379310344828\n"
     ]
    }
   ],
   "source": [
    "dtclassifier, classifier_name, test_set_accuracy, training_set_accuracy = train_using_decision_tree(training_data, test_data)"
   ]
  },
  {
   "cell_type": "code",
   "execution_count": null,
   "metadata": {},
   "outputs": [],
   "source": []
  },
  {
   "cell_type": "markdown",
   "metadata": {},
   "source": [
    "## Classification using Naive Bayes"
   ]
  },
  {
   "cell_type": "code",
   "execution_count": 36,
   "metadata": {},
   "outputs": [],
   "source": [
    "def train_using_naive_bayes(training_data, test_data):\n",
    "    classifier = nltk.NaiveBayesClassifier.train(training_data)\n",
    "    classifier_name = type(classifier).__name__\n",
    "    training_set_accuracy = nltk.classify.accuracy(classifier, training_data)\n",
    "    test_set_accuracy = nltk.classify.accuracy(classifier, test_data)\n",
    "    return classifier, classifier_name, test_set_accuracy, training_set_accuracy"
   ]
  },
  {
   "cell_type": "code",
   "execution_count": 37,
   "metadata": {},
   "outputs": [
    {
     "output_type": "stream",
     "name": "stdout",
     "text": [
      "0.8596491228070176\n0.7931034482758621\n70\nMost Informative Features\n                    leav = None           Greeti : Balanc =     11.2 : 1.0\n                    mani = True           Defaul : Balanc =      9.4 : 1.0\n                   taken = None           Balanc : Utiliz =      5.1 : 1.0\n                 alreadi = True           Defaul : Utiliz =      4.6 : 1.0\n                    help = True             Help : Closin =      3.9 : 1.0\n                   count = True           Utiliz : CF     =      3.4 : 1.0\n                   carri = None           Utiliz : CF     =      3.0 : 1.0\n                   thank = None           Utiliz : Closin =      2.7 : 1.0\n                  remain = None           Utiliz : Balanc =      2.6 : 1.0\n                    take = True           Defaul : Balanc =      2.2 : 1.0\n"
     ]
    }
   ],
   "source": [
    "classifier, classifier_name, test_set_accuracy, training_set_accuracy = train_using_naive_bayes(training_data, test_data)\n",
    "print(training_set_accuracy)\n",
    "print(test_set_accuracy)\n",
    "print(len(classifier.most_informative_features()))\n",
    "classifier.show_most_informative_features()"
   ]
  },
  {
   "cell_type": "code",
   "execution_count": 38,
   "metadata": {},
   "outputs": [
    {
     "output_type": "execute_result",
     "data": {
      "text/plain": [
       "'Utilized-Optional-Leaves'"
      ]
     },
     "metadata": {},
     "execution_count": 38
    }
   ],
   "source": [
    "classifier.classify(({'mani': True, 'option': True, 'leav': True}))"
   ]
  },
  {
   "cell_type": "code",
   "execution_count": null,
   "metadata": {},
   "outputs": [],
   "source": []
  },
  {
   "cell_type": "code",
   "execution_count": 39,
   "metadata": {},
   "outputs": [
    {
     "output_type": "execute_result",
     "data": {
      "text/plain": [
       "['hello']"
      ]
     },
     "metadata": {},
     "execution_count": 39
    }
   ],
   "source": [
    "extract_feature(\"hello\")"
   ]
  },
  {
   "cell_type": "code",
   "execution_count": 40,
   "metadata": {},
   "outputs": [
    {
     "output_type": "execute_result",
     "data": {
      "text/plain": [
       "{'hello': True}"
      ]
     },
     "metadata": {},
     "execution_count": 40
    }
   ],
   "source": [
    "word_feats(extract_feature(\"hello\"))"
   ]
  },
  {
   "cell_type": "code",
   "execution_count": 41,
   "metadata": {},
   "outputs": [
    {
     "output_type": "execute_result",
     "data": {
      "text/plain": [
       "'Utilized-Optional-Leaves'"
      ]
     },
     "metadata": {},
     "execution_count": 41
    }
   ],
   "source": [
    "input_sentence = \"how many balanced leaves do I have?\"\n",
    "classifier.classify(word_feats(extract_feature(input_sentence)))"
   ]
  },
  {
   "cell_type": "code",
   "execution_count": 42,
   "metadata": {},
   "outputs": [],
   "source": [
    "def reply(input_sentence):\n",
    "    category = dtclassifier.classify(word_feats(extract_feature(input_sentence)))\n",
    "    return answers[category]    "
   ]
  },
  {
   "cell_type": "code",
   "execution_count": 43,
   "metadata": {},
   "outputs": [
    {
     "output_type": "execute_result",
     "data": {
      "text/plain": [
       "'Hello. I am Dexter. I will serve your leave enquiries.'"
      ]
     },
     "metadata": {},
     "execution_count": 43
    }
   ],
   "source": [
    "reply('Hi')"
   ]
  },
  {
   "cell_type": "code",
   "execution_count": 44,
   "metadata": {},
   "outputs": [
    {
     "output_type": "execute_result",
     "data": {
      "text/plain": [
       "'You have 25 annual leaves remaining.'"
      ]
     },
     "metadata": {},
     "execution_count": 44
    }
   ],
   "source": [
    "reply('How many annual leaves do I have left?')"
   ]
  },
  {
   "cell_type": "code",
   "execution_count": 45,
   "metadata": {},
   "outputs": [
    {
     "output_type": "execute_result",
     "data": {
      "text/plain": [
       "'You have used 12 annual leaves.'"
      ]
     },
     "metadata": {},
     "execution_count": 45
    }
   ],
   "source": [
    "reply('How many leaves have I taken?')"
   ]
  },
  {
   "cell_type": "code",
   "execution_count": 46,
   "metadata": {},
   "outputs": [
    {
     "output_type": "execute_result",
     "data": {
      "text/plain": [
       "\"It's glad to know that I have been helpful. Have a good day!\""
      ]
     },
     "metadata": {},
     "execution_count": 46
    }
   ],
   "source": [
    "reply('Thanks!')"
   ]
  },
  {
   "cell_type": "markdown",
   "metadata": {},
   "source": [
    "# Conclusion:"
   ]
  },
  {
   "cell_type": "markdown",
   "metadata": {},
   "source": [
    "Once the model has been developed using an algorithm that gives an acceptable accuracy, this model can be called using to any chatbot UI framework"
   ]
  }
 ],
 "metadata": {
  "kernelspec": {
   "display_name": "Python 3",
   "language": "python",
   "name": "python3"
  },
  "language_info": {
   "codemirror_mode": {
    "name": "ipython",
    "version": 3
   },
   "file_extension": ".py",
   "mimetype": "text/x-python",
   "name": "python",
   "nbconvert_exporter": "python",
   "pygments_lexer": "ipython3",
   "version": "3.8.5-final"
  }
 },
 "nbformat": 4,
 "nbformat_minor": 1
}